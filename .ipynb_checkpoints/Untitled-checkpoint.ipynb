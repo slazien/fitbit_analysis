{
 "cells": [
  {
   "cell_type": "code",
   "execution_count": 96,
   "id": "4a0691a9-bea4-43f8-ba26-ecc9f1d5811c",
   "metadata": {},
   "outputs": [
    {
     "data": {
      "text/plain": [
       "False"
      ]
     },
     "execution_count": 96,
     "metadata": {},
     "output_type": "execute_result"
    }
   ],
   "source": [
    "# You're tasked with writing a function which determines if a word matches a \n",
    "# pattern. Ex. given the pattern \"d3dog\" and the word \"datadog\" your function \n",
    "# should return True. However, given the same pattern and the word \"datadogs\", \n",
    "# your function should return False.\n",
    "\n",
    "# The matcher has the following constraints:\n",
    "\n",
    "# Patterns only have digits in {1,2,3,4}\n",
    "# We only have single digits\n",
    "# You do not need to verify these constraints in your solution.\n",
    "\n",
    "matcher(\"d3dog\", \"datadog\") # => True\n",
    "matcher(\"d3dog\", \"datadogs\") # => False"
   ]
  },
  {
   "cell_type": "code",
   "execution_count": 190,
   "id": "43c03226-ed4b-4851-b86a-1635e529b3be",
   "metadata": {},
   "outputs": [],
   "source": [
    "pattern = \"d3dog\"\n",
    "input_str = \"datadog\"\n",
    "\n",
    "def matcher(pattern, input_str):\n",
    "    input_str_modified = input_str\n",
    "    \n",
    "    idx = 0\n",
    "    for idx_pattern in range(len(pattern)):\n",
    "        if pattern[idx_pattern-1].isnumeric():\n",
    "            idx_pattern += 1\n",
    "        input_char = input_str[idx]\n",
    "        pattern_char = pattern[idx_pattern]\n",
    "        print(\"input_char: \", input_char)\n",
    "        print(\"pattern_char: \", pattern_char)\n",
    "\n",
    "        # If chars are the same, we're fine, move on\n",
    "        if pattern_char == input_char:\n",
    "            idx += 1\n",
    "            input_str_modified = input_str_modified[1:]\n",
    "        # If chars are different\n",
    "        else:\n",
    "            # Check if pattern char is an int\n",
    "            try:\n",
    "                # keep going until we get all ints into a single one\n",
    "                int_chars = \"\"\n",
    "                temp_idx = idx_pattern\n",
    "                \n",
    "                while pattern[temp_idx].isnumeric():\n",
    "                    int_chars += pattern[temp_idx]\n",
    "                    temp_idx += 1\n",
    "                    \n",
    "                pattern_int_char = int(int_chars)\n",
    "                # If it is, move those many chars along the input string\n",
    "                idx += pattern_int_char\n",
    "                input_str_modified = input_str_modified[idx-1:]\n",
    "            except ValueError:\n",
    "                # If it isn't, return False\n",
    "                return False\n",
    "            \n",
    "        if idx >= len(input_str):\n",
    "            break\n",
    "        print(\"idx: \", idx)\n",
    "        print(\"input_str_modified: \", input_str_modified)\n",
    "        print(\"-----\")\n",
    "    \n",
    "    return len(input_str_modified) == 0"
   ]
  },
  {
   "cell_type": "code",
   "execution_count": 195,
   "id": "e1ab930e-d906-422a-875b-290132e4a94b",
   "metadata": {},
   "outputs": [
    {
     "name": "stdout",
     "output_type": "stream",
     "text": [
      "input_char:  d\n",
      "pattern_char:  d\n",
      "idx:  1\n",
      "input_str_modified:  atadog\n",
      "-----\n",
      "input_char:  a\n",
      "pattern_char:  3\n",
      "idx:  4\n",
      "input_str_modified:  dog\n",
      "-----\n",
      "input_char:  d\n",
      "pattern_char:  o\n"
     ]
    },
    {
     "data": {
      "text/plain": [
       "False"
      ]
     },
     "execution_count": 195,
     "metadata": {},
     "output_type": "execute_result"
    }
   ],
   "source": [
    "matcher(\"d3dog\", \"datadog\")"
   ]
  },
  {
   "cell_type": "code",
   "execution_count": 196,
   "id": "f72e0ee2-40b3-4803-a333-83f7fcf1b970",
   "metadata": {},
   "outputs": [],
   "source": [
    "pattern = \"d3dog\"\n",
    "input_str = \"datadog\""
   ]
  },
  {
   "cell_type": "code",
   "execution_count": 223,
   "id": "72b7a8f3-53b7-4653-a634-f187190beef6",
   "metadata": {},
   "outputs": [
    {
     "data": {
      "text/plain": [
       "['d', 3, 'd', 'o', 'g']"
      ]
     },
     "execution_count": 223,
     "metadata": {},
     "output_type": "execute_result"
    }
   ],
   "source": []
  },
  {
   "cell_type": "code",
   "execution_count": 270,
   "id": "ebf3e8fc-c541-422f-9cf0-35c25db8430e",
   "metadata": {},
   "outputs": [
    {
     "data": {
      "text/plain": [
       "['d', 'a', 't', 'a', 'd', 'o', 'g']"
      ]
     },
     "execution_count": 270,
     "metadata": {},
     "output_type": "execute_result"
    }
   ],
   "source": [
    "\n",
    "input_str_list"
   ]
  },
  {
   "cell_type": "code",
   "execution_count": 231,
   "id": "aa83f60a-27d7-42ea-a973-82f2e09d5543",
   "metadata": {},
   "outputs": [],
   "source": []
  },
  {
   "cell_type": "code",
   "execution_count": 269,
   "id": "63d0d9a8-b3f5-4dc1-9b08-3657d2169e9a",
   "metadata": {},
   "outputs": [
    {
     "data": {
      "text/plain": [
       "['d', '_', '_', '_', 'd', 'o', 'g']"
      ]
     },
     "execution_count": 269,
     "metadata": {},
     "output_type": "execute_result"
    }
   ],
   "source": [
    "pattern_chars"
   ]
  },
  {
   "cell_type": "code",
   "execution_count": null,
   "id": "9fcbeffb-647d-4b0c-a686-c00c75eb8a43",
   "metadata": {},
   "outputs": [],
   "source": []
  },
  {
   "cell_type": "code",
   "execution_count": null,
   "id": "2f05f508-b23d-43ab-86a8-202312825f5b",
   "metadata": {},
   "outputs": [],
   "source": []
  },
  {
   "cell_type": "code",
   "execution_count": null,
   "id": "c9b485ad-13ce-474e-8b61-a8796277d974",
   "metadata": {},
   "outputs": [],
   "source": []
  },
  {
   "cell_type": "code",
   "execution_count": 273,
   "id": "60465d30-3b02-4f7b-850b-2da4f4d25f1b",
   "metadata": {},
   "outputs": [],
   "source": [
    "def matcher(pattern, input_str):\n",
    "    if pattern == input_str:\n",
    "        return True\n",
    "    if len(pattern) > len(input_str):\n",
    "        return False\n",
    "    \n",
    "    pattern_chars = re.findall(\"[a-zA-Z]\", pattern)\n",
    "    try:\n",
    "        pattern_int = int(re.findall(\"[0-9]+\", pattern)[0])\n",
    "    except IndexError:\n",
    "        return False\n",
    "    pattern_chars.insert(pattern.index(str(pattern_int)), pattern_int)\n",
    "    input_str_list = list(input_str)\n",
    "    \n",
    "    for elem in pattern_chars:\n",
    "        if isinstance(elem, int):\n",
    "            for _ in range(elem):\n",
    "                pattern_chars.insert(pattern_chars.index(elem), \"_\")\n",
    "            pattern_chars.remove(elem)\n",
    "\n",
    "    for idx in range(len(pattern_chars)):\n",
    "        pattern_char = pattern_chars[idx]\n",
    "        if pattern_char == \"_\":\n",
    "            input_str_list[idx] = \"_\"\n",
    "\n",
    "    \n",
    "    return input_str_list == pattern_chars"
   ]
  },
  {
   "cell_type": "code",
   "execution_count": 281,
   "id": "78e1255e-8c5a-4a17-afb6-74f619d95924",
   "metadata": {},
   "outputs": [
    {
     "ename": "TypeError",
     "evalue": "'int' object is not iterable",
     "output_type": "error",
     "traceback": [
      "\u001b[0;31m---------------------------------------------------------------------------\u001b[0m",
      "\u001b[0;31mTypeError\u001b[0m                                 Traceback (most recent call last)",
      "\u001b[0;32m<ipython-input-281-ca08c42daf5e>\u001b[0m in \u001b[0;36m<module>\u001b[0;34m\u001b[0m\n\u001b[0;32m----> 1\u001b[0;31m \u001b[0mmatcher\u001b[0m\u001b[0;34m(\u001b[0m\u001b[0;34m\"d1t1dog\"\u001b[0m\u001b[0;34m,\u001b[0m \u001b[0;34m\"datadog\"\u001b[0m\u001b[0;34m)\u001b[0m\u001b[0;34m\u001b[0m\u001b[0;34m\u001b[0m\u001b[0m\n\u001b[0m",
      "\u001b[0;32m<ipython-input-280-a91b312490c2>\u001b[0m in \u001b[0;36mmatcher\u001b[0;34m(pattern, input_str)\u001b[0m\n\u001b[1;32m      8\u001b[0m     \u001b[0;32mtry\u001b[0m\u001b[0;34m:\u001b[0m\u001b[0;34m\u001b[0m\u001b[0;34m\u001b[0m\u001b[0m\n\u001b[1;32m      9\u001b[0m         \u001b[0mpatterns_int\u001b[0m \u001b[0;34m=\u001b[0m \u001b[0mre\u001b[0m\u001b[0;34m.\u001b[0m\u001b[0mfindall\u001b[0m\u001b[0;34m(\u001b[0m\u001b[0;34m\"[0-9]+\"\u001b[0m\u001b[0;34m,\u001b[0m \u001b[0mpattern\u001b[0m\u001b[0;34m)\u001b[0m\u001b[0;34m\u001b[0m\u001b[0;34m\u001b[0m\u001b[0m\n\u001b[0;32m---> 10\u001b[0;31m         \u001b[0mpatterns_int\u001b[0m \u001b[0;34m=\u001b[0m \u001b[0;34m[\u001b[0m\u001b[0mint\u001b[0m\u001b[0;34m(\u001b[0m\u001b[0melem\u001b[0m\u001b[0;34m)\u001b[0m \u001b[0;32mfor\u001b[0m \u001b[0melem\u001b[0m \u001b[0;32min\u001b[0m \u001b[0mpattern_ints\u001b[0m\u001b[0;34m]\u001b[0m\u001b[0;34m\u001b[0m\u001b[0;34m\u001b[0m\u001b[0m\n\u001b[0m\u001b[1;32m     11\u001b[0m     \u001b[0;32mexcept\u001b[0m \u001b[0mIndexError\u001b[0m\u001b[0;34m:\u001b[0m\u001b[0;34m\u001b[0m\u001b[0;34m\u001b[0m\u001b[0m\n\u001b[1;32m     12\u001b[0m         \u001b[0;32mreturn\u001b[0m \u001b[0;32mFalse\u001b[0m\u001b[0;34m\u001b[0m\u001b[0;34m\u001b[0m\u001b[0m\n",
      "\u001b[0;31mTypeError\u001b[0m: 'int' object is not iterable"
     ]
    }
   ],
   "source": [
    "matcher(\"d1t1dog\", \"datadog\")"
   ]
  },
  {
   "cell_type": "code",
   "execution_count": 278,
   "id": "5c6e77da-05f5-4b08-ba87-ee356739aa09",
   "metadata": {},
   "outputs": [
    {
     "data": {
      "text/plain": [
       "['d', '_', '_', '_', 'd', 'o', 'g']"
      ]
     },
     "execution_count": 278,
     "metadata": {},
     "output_type": "execute_result"
    }
   ],
   "source": [
    "pattern_chars = [\"d\", \"_\", \"t\", \"_\", ]"
   ]
  },
  {
   "cell_type": "code",
   "execution_count": 333,
   "id": "3ebaa869-c6c9-4eed-92e3-63edc007ccb4",
   "metadata": {},
   "outputs": [],
   "source": [
    "def matcher(pattern, input_str):\n",
    "    if pattern == input_str:\n",
    "        return True\n",
    "    if len(pattern) > len(input_str):\n",
    "        return False\n",
    "    \n",
    "    pattern_chars = re.findall(\"[a-zA-Z]\", pattern)\n",
    "    \n",
    "    try:\n",
    "        patterns_int = re.findall(\"[0-9]+\", pattern)\n",
    "        patterns_int = [int(elem) for elem in patterns_int]\n",
    "    except IndexError:\n",
    "        return False\n",
    "    \n",
    "    for int_elem in set(patterns_int):\n",
    "        for span_elem in re.finditer(str(int_elem), pattern):\n",
    "            span_current = span_elem.span()\n",
    "            pattern_chars.insert(span_current[0], int_elem)\n",
    "            \n",
    "    input_str_list = list(input_str)\n",
    "    \n",
    "    for elem in pattern_chars:\n",
    "        if isinstance(elem, int):\n",
    "            for _ in range(elem):\n",
    "                pattern_chars.insert(pattern_chars.index(elem), \"_\")\n",
    "            pattern_chars.remove(elem)\n",
    "\n",
    "    for idx in range(len(pattern_chars)):\n",
    "        pattern_char = pattern_chars[idx]\n",
    "        if pattern_char == \"_\":\n",
    "            input_str_list[idx] = \"_\"\n",
    "\n",
    "    \n",
    "    return input_str_list == pattern_chars"
   ]
  },
  {
   "cell_type": "code",
   "execution_count": 334,
   "id": "817a013d-997e-4256-bfe0-a8f80c3a4e23",
   "metadata": {},
   "outputs": [
    {
     "data": {
      "text/plain": [
       "True"
      ]
     },
     "execution_count": 334,
     "metadata": {},
     "output_type": "execute_result"
    }
   ],
   "source": [
    "matcher(\"a11y\", \"accessibility\")"
   ]
  },
  {
   "cell_type": "code",
   "execution_count": null,
   "id": "9954175e-bc7d-4555-96f5-e9b5b2fa5f50",
   "metadata": {},
   "outputs": [],
   "source": []
  }
 ],
 "metadata": {
  "kernelspec": {
   "display_name": "Python 3",
   "language": "python",
   "name": "python3"
  },
  "language_info": {
   "codemirror_mode": {
    "name": "ipython",
    "version": 3
   },
   "file_extension": ".py",
   "mimetype": "text/x-python",
   "name": "python",
   "nbconvert_exporter": "python",
   "pygments_lexer": "ipython3",
   "version": "3.8.5"
  }
 },
 "nbformat": 4,
 "nbformat_minor": 5
}
